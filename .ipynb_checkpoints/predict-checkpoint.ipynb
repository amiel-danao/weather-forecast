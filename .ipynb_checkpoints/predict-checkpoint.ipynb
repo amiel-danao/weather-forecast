{
 "cells": [
  {
   "cell_type": "code",
   "execution_count": null,
   "id": "471e22a0-e679-494a-91a1-3c461d2b568a",
   "metadata": {},
   "outputs": [],
   "source": []
  }
 ],
 "metadata": {
  "kernelspec": {
   "display_name": "Python 3 (ipykernel)",
   "language": "python",
   "name": "python3"
  },
  "language_info": {
   "codemirror_mode": {
    "name": "ipython",
    "version": 3
   },
   "file_extension": ".py",
   "mimetype": "text/x-python",
   "name": "python",
   "nbconvert_exporter": "python",
   "pygments_lexer": "ipython3",
   "version": "3.9.13"
  }
 },
 "nbformat": 4,
 "nbformat_minor": 5
}
